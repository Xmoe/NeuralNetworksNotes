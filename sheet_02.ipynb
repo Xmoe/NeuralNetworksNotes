{
 "cells": [
  {
   "cell_type": "markdown",
   "metadata": {},
   "source": [
    "# Introduction Neural Networks"
   ]
  },
  {
   "cell_type": "markdown",
   "metadata": {},
   "source": [
    "## Task 2.1"
   ]
  },
  {
   "cell_type": "markdown",
   "metadata": {},
   "source": [
    "Given the function of $f_1(x) = 3x³ - 2x$, optimal values for w1 to w4 are as follows:  \n",
    "\n",
    "    w0 =  0  \n",
    "    w1 = -2  \n",
    "    w2 =  0  \n",
    "    w3 =  3  \n",
    "    \n",
    "Resulting in $0x⁰ - 2x¹ + 0x² + 3x³ = 3x³ - 2x¹ = y$"
   ]
  },
  {
   "cell_type": "markdown",
   "metadata": {},
   "source": [
    "### Preparing the data\n",
    "\n",
    "Below we are inserting the data into the script and putting it into the right format."
   ]
  },
  {
   "cell_type": "code",
   "execution_count": 1,
   "metadata": {
    "slideshow": {
     "slide_type": "-"
    }
   },
   "outputs": [],
   "source": [
    "#%matplotlib notebook\n",
    "%matplotlib inline\n",
    "\n",
    "import matplotlib.pyplot as plt\n",
    "import numpy as np"
   ]
  },
  {
   "cell_type": "code",
   "execution_count": 2,
   "metadata": {},
   "outputs": [],
   "source": [
    "offset = [-1 for x in range(9)]\n",
    "X_full = [offset, [-1, -3/4, -1/2, -1/4, 0, 1/4, 1/2, 3/4, 1]]\n",
    "X_full = np.matrix(X_full).T\n",
    "Y_full = [-1, 0.1, 0.6, 0.5, -0.05, -0.5, -0.7, -0.2, 1]\n",
    "Y_full = np.matrix(Y_full).T"
   ]
  },
  {
   "cell_type": "code",
   "execution_count": 3,
   "metadata": {
    "scrolled": true
   },
   "outputs": [
    {
     "name": "stdout",
     "output_type": "stream",
     "text": [
      "[[-1.   -1.  ]\n",
      " [-1.   -0.75]\n",
      " [-1.   -0.5 ]\n",
      " [-1.   -0.25]] \n",
      "\n",
      "[[-1. ]\n",
      " [ 0.1]\n",
      " [ 0.6]\n",
      " [ 0.5]]\n"
     ]
    }
   ],
   "source": [
    "X = X_full[:4, :]\n",
    "Y = Y_full[:4, :]\n",
    "\n",
    "print(X, \"\\n\")\n",
    "print(Y)"
   ]
  },
  {
   "cell_type": "markdown",
   "metadata": {},
   "source": [
    "### Optimizing $\\vec\\omega_*$\n",
    "\n",
    "In linear regression, the prediction function is defined as\n",
    "\n",
    "$$f(\\vec{x}) = \\vec\\omega^\\top \\vec{x} - \\theta$$\n",
    "\n",
    "where $\\theta$ is the y-offset of the linear regression. We can now hide the $\\theta$ in $\\vec\\omega_*$ like this:\n",
    "\n",
    "$$f(\\vec{x}) = \\vec\\omega_*^\\top \\vec{x}_*$$\n",
    "\n",
    "where $\\vec\\omega_* = \\left\\lgroup \\matrix{\\theta \\cr \\vec\\omega} \\right\\rgroup $ and   $\\vec{x}_* = \\left\\lgroup \\matrix{-1 \\cr \\vec{x}} \\right\\rgroup $\n",
    "\n",
    "This means we can solve the linear regression by calculating $\\vec\\omega_*$. Luckily, this is possible using following simple formula:\n",
    "\n",
    "$$\\vec\\omega_* = pseudoinverse(\\vec{x}_*) * \\vec{y}$$ (where $\\vec{y} = f(x)$)\n",
    "\n",
    "`numpy` offers the pseudoinverse, so to calculate $\\vec\\omega_*$, all we need is:"
   ]
  },
  {
   "cell_type": "code",
   "execution_count": 4,
   "metadata": {},
   "outputs": [],
   "source": [
    "w = np.linalg.pinv(X) * Y"
   ]
  },
  {
   "cell_type": "markdown",
   "metadata": {},
   "source": [
    "Now we can take the values for $\\omega$ and $\\theta$ and insert them into \n",
    "$f(\\vec{x}) = \\vec\\omega^\\top \\vec{x} - \\theta$\n",
    "which gives us the linear regression."
   ]
  },
  {
   "cell_type": "code",
   "execution_count": 5,
   "metadata": {},
   "outputs": [
    {
     "name": "stdout",
     "output_type": "stream",
     "text": [
      "omega = 2.0, theta = -1.3\n",
      "\n",
      "f(x) = 2.0x+1.3\n"
     ]
    }
   ],
   "source": [
    "theta, omega = w.tolist()\n",
    "\n",
    "theta = round(theta[0], 3)\n",
    "omega = round(omega[0], 3)\n",
    "\n",
    "print(f\"omega = {omega}, theta = {theta}\\n\")\n",
    "\n",
    "print(f\"f(x) = {omega}x{'+' if theta < 0 else '-'}{abs(theta)}\")"
   ]
  },
  {
   "cell_type": "markdown",
   "metadata": {},
   "source": [
    "Therefore the formula of our linear regression is as follows:\n",
    "\n",
    "$f_2(x)=2x+1.3$\n",
    "\n",
    "Now lets plot both $f_1$ and $f_2$ to confirm a correct linear regression"
   ]
  },
  {
   "cell_type": "code",
   "execution_count": 6,
   "metadata": {},
   "outputs": [
    {
     "data": {
      "image/png": "[encoded data removed]",
      "text/plain": [
       "<Figure size 432x288 with 1 Axes>"
      ]
     },
     "metadata": {},
     "output_type": "display_data"
    }
   ],
   "source": [
    "def f1(x):\n",
    "    return 3*x**3 -2*x\n",
    "\n",
    "def f2(x):\n",
    "    return 2*x+1.3\n",
    "\n",
    "def plot_function(function, value_range):\n",
    "    plt.plot(value_range, [function(x) for x in value_range])\n",
    "\n",
    "    \n",
    "x_values = np.linspace(-1,1,100)\n",
    "\n",
    "plot_function(f1, x_values)\n",
    "plot_function(f2, x_values)"
   ]
  },
  {
   "cell_type": "markdown",
   "metadata": {},
   "source": [
    "As we can see, our regression is not very good after training it only with 4 values.\n",
    "However, so far we have only used part of the dataset to generate the linear regression. What happens when we use the whole dataset?"
   ]
  },
  {
   "cell_type": "code",
   "execution_count": 7,
   "metadata": {},
   "outputs": [
    {
     "name": "stdout",
     "output_type": "stream",
     "text": [
      "omega = 0.233, theta = 0.028\n",
      "\n",
      "f(x) = 0.233x-0.028\n"
     ]
    }
   ],
   "source": [
    "w2 = np.linalg.pinv(X_full) * Y_full\n",
    "\n",
    "theta, omega = w2.tolist()\n",
    "\n",
    "theta = round(theta[0], 3)\n",
    "omega = round(omega[0], 3)\n",
    "\n",
    "print(f\"omega = {omega}, theta = {theta}\\n\")\n",
    "\n",
    "print(f\"f(x) = {omega}x{'+' if theta < 0 else '-'}{abs(theta)}\")"
   ]
  },
  {
   "cell_type": "markdown",
   "metadata": {},
   "source": [
    "Now lets graph this regression against the original input"
   ]
  },
  {
   "cell_type": "code",
   "execution_count": 8,
   "metadata": {},
   "outputs": [
    {
     "data": {
      "image/png": "[encoded data removed]",
      "text/plain": [
       "<Figure size 432x288 with 1 Axes>"
      ]
     },
     "metadata": {},
     "output_type": "display_data"
    }
   ],
   "source": [
    "def f3(x):\n",
    "    return 0.233*x-0.028\n",
    "\n",
    "plot_function(f1, x_values)\n",
    "plot_function(f3, x_values)"
   ]
  },
  {
   "cell_type": "markdown",
   "metadata": {},
   "source": [
    "Way better!"
   ]
  }
 ],
 "metadata": {
  "kernelspec": {
   "display_name": "Python 3",
   "language": "python",
   "name": "python3"
  },
  "language_info": {
   "codemirror_mode": {
    "name": "ipython",
    "version": 3
   },
   "file_extension": ".py",
   "mimetype": "text/x-python",
   "name": "python",
   "nbconvert_exporter": "python",
   "pygments_lexer": "ipython3",
   "version": "3.6.5"
  }
 },
 "nbformat": 4,
 "nbformat_minor": 2
}
